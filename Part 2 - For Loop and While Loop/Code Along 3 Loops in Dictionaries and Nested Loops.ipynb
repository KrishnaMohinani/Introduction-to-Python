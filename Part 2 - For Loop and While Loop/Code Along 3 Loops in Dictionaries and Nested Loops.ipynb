{
 "cells": [
  {
   "cell_type": "markdown",
   "metadata": {},
   "source": [
    "# For Loops vs Dictionaries"
   ]
  },
  {
   "cell_type": "markdown",
   "metadata": {},
   "source": [
    "## Now you might be wandering the relevance of Looping through dictionaries. In real life some data comes in json format and without a strong foundation, you will find yourself wanting in many situations"
   ]
  },
  {
   "cell_type": "code",
   "execution_count": null,
   "metadata": {},
   "outputs": [],
   "source": []
  },
  {
   "cell_type": "markdown",
   "metadata": {},
   "source": [
    "### Let's start from Our Food Order from our String Lesson"
   ]
  },
  {
   "cell_type": "markdown",
   "metadata": {},
   "source": [
    "Now, to make it even better, you can nest **DICTIONARIES** INSIDE of **LISTS**\n",
    "\n",
    "```\n",
    "group_lunch = [\n",
    "    {'ingredient1': 'rice', 'ingredient2': 'unagi', 'ingredient3': 'miso soup'},\n",
    "    {'ingredient1': 'seaweed', 'ingredient2': 'tempura', 'ingredient3': 'miso soup'},\n",
    "    {'ingredient1': 'hamburger', 'ingredient2': 'french fries', 'ingredient3': 'milkshake'}\n",
    "]\n",
    "```\n",
    "\n",
    "try calling elements of group lunch and see what you get!"
   ]
  },
  {
   "cell_type": "markdown",
   "metadata": {},
   "source": [
    "![bento box image](https://images.pexels.com/photos/884596/pexels-photo-884596.jpeg?auto=compress&cs=tinysrgb&dpr=2&h=750&w=1260)\n"
   ]
  },
  {
   "cell_type": "markdown",
   "metadata": {},
   "source": [
    "### Try to get a few different bento box orders into a group order. Please limit each order to 5 ingredients. "
   ]
  },
  {
   "cell_type": "code",
   "execution_count": 1,
   "metadata": {},
   "outputs": [],
   "source": [
    "group_lunch = [\n",
    "    {'ingredient1': 'rice', 'ingredient2': 'unagi', 'ingredient3': 'miso soup'},\n",
    "    {'ingredient1': 'seaweed', 'ingredient2': 'tempura', 'ingredient3': 'miso soup'},\n",
    "    {'ingredient1': 'hamburger', 'ingredient2': 'french fries', 'ingredient3': 'milkshake'}\n",
    "]"
   ]
  },
  {
   "cell_type": "code",
   "execution_count": null,
   "metadata": {},
   "outputs": [],
   "source": []
  },
  {
   "cell_type": "code",
   "execution_count": 2,
   "metadata": {},
   "outputs": [
    {
     "data": {
      "text/plain": [
       "'unagi'"
      ]
     },
     "execution_count": 2,
     "metadata": {},
     "output_type": "execute_result"
    }
   ],
   "source": [
    "# Using indexing to get the first item from the second ingredient\n",
    "group_lunch[0]['ingredient2']"
   ]
  },
  {
   "cell_type": "markdown",
   "metadata": {},
   "source": [
    "# Making our first order"
   ]
  },
  {
   "cell_type": "code",
   "execution_count": 3,
   "metadata": {},
   "outputs": [
    {
     "name": "stdout",
     "output_type": "stream",
     "text": [
      "Order the following: we will like to order the hamburger two orders of the tempura three orders of the miso soup\n"
     ]
    }
   ],
   "source": [
    "print('Order the following: we will like to order the' ,group_lunch[2]['ingredient1'], 'two orders of the',\\\n",
    "      group_lunch[1]['ingredient2'] , 'three orders of the' , group_lunch[0]['ingredient3'])"
   ]
  },
  {
   "cell_type": "code",
   "execution_count": null,
   "metadata": {},
   "outputs": [],
   "source": []
  },
  {
   "cell_type": "markdown",
   "metadata": {},
   "source": [
    "# write a loop to print first ingredient in everyone's bento order."
   ]
  },
  {
   "cell_type": "code",
   "execution_count": 4,
   "metadata": {},
   "outputs": [],
   "source": [
    "x = ('order the following: we will like to order the ' + group_lunch[2]['ingredient1'], 'two orders of the ' + \\\n",
    "      group_lunch[1]['ingredient2'] + 'three orders of the '+ group_lunch[0]['ingredient3'] + group_lunch[2] ['ingredient2'])"
   ]
  },
  {
   "cell_type": "code",
   "execution_count": 5,
   "metadata": {},
   "outputs": [
    {
     "name": "stdout",
     "output_type": "stream",
     "text": [
      "order the following: we will like to order the hamburger\n",
      "two orders of the tempurathree orders of the miso soupfrench fries\n"
     ]
    }
   ],
   "source": [
    "for item in x:\n",
    "    print(item)"
   ]
  },
  {
   "cell_type": "code",
   "execution_count": null,
   "metadata": {},
   "outputs": [],
   "source": []
  },
  {
   "cell_type": "markdown",
   "metadata": {},
   "source": [
    "### Integration\n",
    "\n",
    "Write a for loop that will go through and print all ingredient without the content of the ingredients"
   ]
  },
  {
   "cell_type": "code",
   "execution_count": 6,
   "metadata": {},
   "outputs": [
    {
     "name": "stdout",
     "output_type": "stream",
     "text": [
      "['ingredient1']\n",
      "['ingredient2']\n",
      "['ingredient3']\n"
     ]
    }
   ],
   "source": [
    "for i in range(1,4):\n",
    "    print(['ingredient' + str(i)])"
   ]
  },
  {
   "cell_type": "markdown",
   "metadata": {},
   "source": [
    "# Using Nested Loop to print our ingredients"
   ]
  },
  {
   "cell_type": "code",
   "execution_count": 7,
   "metadata": {},
   "outputs": [
    {
     "name": "stdout",
     "output_type": "stream",
     "text": [
      "rice\n",
      "unagi\n",
      "miso soup\n",
      "seaweed\n",
      "tempura\n",
      "miso soup\n",
      "hamburger\n",
      "french fries\n",
      "milkshake\n"
     ]
    }
   ],
   "source": [
    "for j in range(3):\n",
    "    for i in range(1,4):\n",
    "        print(group_lunch[j]['ingredient' + str(i)])"
   ]
  },
  {
   "cell_type": "code",
   "execution_count": null,
   "metadata": {},
   "outputs": [],
   "source": []
  },
  {
   "cell_type": "code",
   "execution_count": null,
   "metadata": {},
   "outputs": [],
   "source": []
  },
  {
   "cell_type": "markdown",
   "metadata": {},
   "source": [
    "# Baby Steps Loops In Dictionaries"
   ]
  },
  {
   "cell_type": "code",
   "execution_count": 9,
   "metadata": {},
   "outputs": [],
   "source": [
    "bread = {\"spelt\":17, \n",
    "          \"rye\":21,\n",
    "          \"brown\" : 17, \n",
    "          \"whole wheat\":12, \n",
    "          \"white flour\":1}"
   ]
  },
  {
   "cell_type": "code",
   "execution_count": 10,
   "metadata": {},
   "outputs": [],
   "source": [
    "# create a variable for Spelt bread\n",
    "spelt_bread = bread[\"spelt\"]"
   ]
  },
  {
   "cell_type": "code",
   "execution_count": 12,
   "metadata": {},
   "outputs": [
    {
     "name": "stdout",
     "output_type": "stream",
     "text": [
      "We have 17 loaves of spelt bread.\n"
     ]
    }
   ],
   "source": [
    "print(\"We have \" + str(spelt_bread) + \" loaves of spelt bread.\")"
   ]
  },
  {
   "cell_type": "markdown",
   "metadata": {},
   "source": [
    "# Iterate and print all type of bread including quantity"
   ]
  },
  {
   "cell_type": "code",
   "execution_count": 14,
   "metadata": {},
   "outputs": [
    {
     "name": "stdout",
     "output_type": "stream",
     "text": [
      "('spelt', 17)\n",
      "('rye', 21)\n",
      "('brown', 17)\n",
      "('whole wheat', 12)\n",
      "('white flour', 1)\n"
     ]
    }
   ],
   "source": [
    "for item in bread.items():\n",
    "    print(item)"
   ]
  },
  {
   "cell_type": "markdown",
   "metadata": {},
   "source": [
    "# Write a for loop that will go through and print all the orders as a readable sentences. "
   ]
  },
  {
   "cell_type": "code",
   "execution_count": 15,
   "metadata": {},
   "outputs": [
    {
     "name": "stdout",
     "output_type": "stream",
     "text": [
      "We have 17 spelt bread.\n",
      "We have 21 rye bread.\n",
      "We have 17 brown bread.\n",
      "We have 12 whole wheat bread.\n",
      "We have 1 white flour bread.\n"
     ]
    }
   ],
   "source": [
    "for item, stock_count in bread.items():\n",
    "    print(\"We have \" + str(stock_count) + \" \" + item + \" bread.\")"
   ]
  },
  {
   "cell_type": "code",
   "execution_count": null,
   "metadata": {},
   "outputs": [],
   "source": []
  },
  {
   "cell_type": "code",
   "execution_count": null,
   "metadata": {},
   "outputs": [],
   "source": []
  },
  {
   "cell_type": "markdown",
   "metadata": {},
   "source": [
    "# Diving Deeper Into Nested Loop"
   ]
  },
  {
   "cell_type": "markdown",
   "metadata": {},
   "source": [
    "# Using Nested Loops\n",
    "\n",
    "## Introduction\n",
    "In this lesson, we will be looking at how to perform nested iteration (or looping). What does this mean exactly? Well, we know that a nested data structure is having one form of data nested inside another. For example, a nested list would be a list that contains another list, or a dictionary that has a key that points to a list.\n",
    "\n",
    "```python\n",
    "# nested lists\n",
    "list_of_lists = [[1,2,3], [4,5,6], [3,5,2]]\n",
    "dict_nested_list = { 'name': \"example\", 'colors': [\"blue\", \"green\", \"yellow\", \"red\"] }\n",
    "```\n",
    "\n",
    "So, with that example, we can infer that a nested loop would be a loop inside another loop. Sounds exciting, right? Let's take a look at some nested loops.\n",
    "\n",
    "## Objectives\n",
    "You will be able to:\n",
    "- Combine different types of loops\n",
    "- Understand, explain and use nested loops to iterate through nested data structures\n",
    "\n",
    "## Writing A Nested Loop\n",
    "\n",
    "Working with a nested data structure is a little confusing at first, but after doing it a few times it becomes much less intimidating. The same is true for writing nested loops. They will be somewhat commonplace in our programming future and are important to be comfortable with. \n",
    "\n",
    "Basically what happens with a nested loop is the inner loop runs in its entirety **every** iteration of the outer loop. Let's take a look at an example before diving deeper."
   ]
  },
  {
   "cell_type": "code",
   "execution_count": 38,
   "metadata": {},
   "outputs": [
    {
     "name": "stdout",
     "output_type": "stream",
     "text": [
      "this is iteration **1** of the OUTER loop\n",
      "     this is iteration One of the INNER loop\n",
      "     this is iteration Two of the INNER loop\n",
      "     this is iteration Three of the INNER loop\n",
      "\n",
      "\n",
      "this is iteration **2** of the OUTER loop\n",
      "     this is iteration One of the INNER loop\n",
      "     this is iteration Two of the INNER loop\n",
      "     this is iteration Three of the INNER loop\n",
      "\n",
      "\n",
      "this is iteration **3** of the OUTER loop\n",
      "     this is iteration One of the INNER loop\n",
      "     this is iteration Two of the INNER loop\n",
      "     this is iteration Three of the INNER loop\n",
      "\n",
      "\n"
     ]
    }
   ],
   "source": [
    "outer_numbers = [1,2,3]\n",
    "inner_words = [\"One\",\"Two\",\"Three\"]\n",
    "for number in outer_numbers:\n",
    "    print(f\"this is iteration **{number}** of the OUTER loop\")\n",
    "    for word in inner_words:\n",
    "        print(f\"     this is iteration {word} of the INNER loop\")\n",
    "    print(\"\\n\")          "
   ]
  },
  {
   "cell_type": "markdown",
   "metadata": {},
   "source": [
    "# How Nested Loops work"
   ]
  },
  {
   "cell_type": "code",
   "execution_count": 8,
   "metadata": {},
   "outputs": [
    {
     "name": "stdout",
     "output_type": "stream",
     "text": [
      "loop1: 1\n",
      "loop2--- 1\n",
      "loop2--- 2\n",
      "loop2--- 3\n",
      "loop2--- 4\n",
      "loop2--- 5\n",
      "loop1: 2\n",
      "loop2--- 1\n",
      "loop2--- 2\n",
      "loop2--- 3\n",
      "loop2--- 4\n",
      "loop2--- 5\n",
      "loop1: 3\n",
      "loop2--- 1\n",
      "loop2--- 2\n",
      "loop2--- 3\n",
      "loop2--- 4\n",
      "loop2--- 5\n",
      "loop1: 4\n",
      "loop2--- 1\n",
      "loop2--- 2\n",
      "loop2--- 3\n",
      "loop2--- 4\n",
      "loop2--- 5\n",
      "loop1: 5\n",
      "loop2--- 1\n",
      "loop2--- 2\n",
      "loop2--- 3\n",
      "loop2--- 4\n",
      "loop2--- 5\n"
     ]
    }
   ],
   "source": [
    "list2 = [1,2,3,4,5]\n",
    "\n",
    "for x in list2:\n",
    "    print('loop1:', x)\n",
    "    for y in list2:\n",
    "        print('loop2---', y)"
   ]
  },
  {
   "cell_type": "code",
   "execution_count": null,
   "metadata": {},
   "outputs": [],
   "source": []
  },
  {
   "cell_type": "markdown",
   "metadata": {},
   "source": [
    "## Explaining How Nested Loops Work\n",
    "\n",
    "Alright, so, what we see happening here is that the **inner** loop runs through each of its iterations for each iteration of the **outer** loop. If we break this down even further, we can think of the block inside of a loop as a single operation. The current iteration only moves on to the next iteration once it has completed the entire operation. \n",
    "\n",
    "So, the operation of the outer loop is to print a string and execute a for loop on the `inner_words` collection. The outer block will do this three times. **BUT** the nested loop has to finish before the next iteration of the outer loop. The nested loop's job is to print its string three times, so that happens for each iteration of the outer loop.\n",
    "\n",
    "We can nest any and all kinds of loops."
   ]
  },
  {
   "cell_type": "code",
   "execution_count": null,
   "metadata": {},
   "outputs": [],
   "source": []
  },
  {
   "cell_type": "code",
   "execution_count": 39,
   "metadata": {},
   "outputs": [
    {
     "name": "stdout",
     "output_type": "stream",
     "text": [
      "Outer iteration: 1\n",
      "     inner iteration: 1\n",
      "     inner iteration: 2\n",
      "     inner iteration: 3\n",
      "\n",
      "\n",
      "Outer iteration: 2\n",
      "     inner iteration: 1\n",
      "     inner iteration: 2\n",
      "     inner iteration: 3\n",
      "\n",
      "\n",
      "Outer iteration: 3\n",
      "     inner iteration: 1\n",
      "     inner iteration: 2\n",
      "     inner iteration: 3\n",
      "\n",
      "\n"
     ]
    }
   ],
   "source": [
    "outer = 0\n",
    "inner = 0\n",
    "while outer < 3:\n",
    "    outer += 1\n",
    "    print(\"Outer iteration:\", outer)\n",
    "    while inner < 3:\n",
    "        inner += 1\n",
    "        print(\"     inner iteration:\", inner)\n",
    "    inner = 0\n",
    "    print(\"\\n\")"
   ]
  },
  {
   "cell_type": "code",
   "execution_count": null,
   "metadata": {},
   "outputs": [],
   "source": []
  },
  {
   "cell_type": "markdown",
   "metadata": {},
   "source": [
    "## Using Nested Loops\n",
    "\n",
    "Seeing how to use nested loops is great and all, but when do we really use them? Well, as we touched on earlier, nested data structures don't simply provide a convenient way to conceptualize nested loops, they provide a clear use case for them too.\n",
    "\n",
    "Let's say we have a `list` of `dictionaries` that represent people. People can have attributes that also point to other collections, let's say their pets. So, if we wanted a way to list out the names of all people's pets, this would be a great opportunity to employ a nested loop. Let's take a look at an example."
   ]
  },
  {
   "cell_type": "code",
   "execution_count": 63,
   "metadata": {},
   "outputs": [],
   "source": [
    "applicants = [{'name': \"Joshua\", 'programming_languages': ['Ruby', 'JavaScript', 'SQL', \"Java\",\"Python\"]},\n",
    "               {'name': \"Giulia\", 'programming_languages': ['JavaScript', 'Elixir', 'Python']},\n",
    "               {'name': \"Ashray\", 'programming_languages': ['C#', 'CoffeeScript', 'R']},\n",
    "               {'name': \"Caleb\", 'programming_languages': ['C++', 'PHP', 'Swift']}\n",
    "              ]"
   ]
  },
  {
   "cell_type": "markdown",
   "metadata": {},
   "source": [
    "# So, if we wanted to take the above list of `job applicants` and dynamically list out everyone's `programming_languages` we would need to use two separate loops. "
   ]
  },
  {
   "cell_type": "code",
   "execution_count": 64,
   "metadata": {},
   "outputs": [
    {
     "name": "stdout",
     "output_type": "stream",
     "text": [
      "{'name': 'Joshua', 'programming_languages': ['Ruby', 'JavaScript', 'SQL', 'Java', 'Python']}\n",
      "{'name': 'Giulia', 'programming_languages': ['JavaScript', 'Elixir', 'Python']}\n",
      "{'name': 'Ashray', 'programming_languages': ['C#', 'CoffeeScript', 'R']}\n",
      "{'name': 'Caleb', 'programming_languages': ['C++', 'PHP', 'Swift']}\n"
     ]
    }
   ],
   "source": [
    "for talent in applicants:\n",
    "    print(talent)"
   ]
  },
  {
   "cell_type": "code",
   "execution_count": 67,
   "metadata": {},
   "outputs": [
    {
     "name": "stdout",
     "output_type": "stream",
     "text": [
      "Ruby\n",
      "JavaScript\n",
      "SQL\n",
      "Java\n",
      "Python\n",
      "JavaScript\n",
      "Elixir\n",
      "Python\n",
      "C#\n",
      "CoffeeScript\n",
      "R\n",
      "C++\n",
      "PHP\n",
      "Swift\n"
     ]
    }
   ],
   "source": [
    "for skills in applicants:\n",
    "    for language in skills['programming_languages']:\n",
    "        print(language)"
   ]
  },
  {
   "cell_type": "code",
   "execution_count": null,
   "metadata": {},
   "outputs": [],
   "source": []
  },
  {
   "cell_type": "code",
   "execution_count": null,
   "metadata": {},
   "outputs": [],
   "source": []
  },
  {
   "cell_type": "markdown",
   "metadata": {},
   "source": [
    "# Here is a more robust shopping list of nested dictionaries:\n",
    "```\n",
    "shopping_dict = {'Grocieries': {'ben & jerrys': 5.29, 'cheese': 2.79,'ham': 25.0, 'kale': 2.75,'kefir': 4.5,'oranges': 3.64,'tofu four-pack': 12.0,'whole milk': 3.42},\n",
    "                 'House supplies': {'toilet paper pack': 16.50, 'clorox spray': 6.43, 'kleenex': 2.50,},\n",
    "                 'Pet supplies': {'Taste of the Wild': 65.20, 'squeaky toy': 4.50, 'duck feet': 8.45}}\n",
    "```\n",
    "\n",
    "write the nested for loops to print out each grocery list with its total\n",
    "\n",
    "_Hint_\n",
    "\n",
    "- use [this link](https://pyformat.info/#number) for help in formatting the total to two decimal places"
   ]
  },
  {
   "cell_type": "code",
   "execution_count": null,
   "metadata": {},
   "outputs": [],
   "source": []
  },
  {
   "cell_type": "code",
   "execution_count": 17,
   "metadata": {},
   "outputs": [],
   "source": [
    "shopping_dict = {'Grocieries': {'ben & jerrys': 5.29, \n",
    "                                'cheese': 2.79,\n",
    "                                'ham': 25.0, \n",
    "                                'kale': 2.75,\n",
    "                                'kefir': 4.5,\n",
    "                                'oranges': 3.64,\n",
    "                                'tofu four-pack': 12.0,\n",
    "                                'whole milk': 3.42},\n",
    "                 \n",
    "                 'House supplies':\n",
    "                 {'toilet paper pack': 16.50, \n",
    "                  'clorox spray': 6.43, \n",
    "                  'kleenex': 2.50,},\n",
    "                 \n",
    "                 'Pet supplies':\n",
    "                 {'Taste of the Wild': 65.20, \n",
    "                  'squeaky toy': 4.50, \n",
    "                  'duck feet': 8.45}}\n"
   ]
  },
  {
   "cell_type": "markdown",
   "metadata": {},
   "source": [
    "# Print  the content in our shopping cart"
   ]
  },
  {
   "cell_type": "code",
   "execution_count": 68,
   "metadata": {},
   "outputs": [
    {
     "data": {
      "text/plain": [
       "dict_keys(['Grocieries', 'House supplies', 'Pet supplies'])"
      ]
     },
     "execution_count": 68,
     "metadata": {},
     "output_type": "execute_result"
    }
   ],
   "source": [
    "shopping_dict.keys()"
   ]
  },
  {
   "cell_type": "code",
   "execution_count": 69,
   "metadata": {},
   "outputs": [
    {
     "name": "stdout",
     "output_type": "stream",
     "text": [
      "Grocieries\n",
      "House supplies\n",
      "Pet supplies\n"
     ]
    }
   ],
   "source": [
    "for item in shopping_dict:\n",
    "    print(item)"
   ]
  },
  {
   "cell_type": "code",
   "execution_count": null,
   "metadata": {},
   "outputs": [],
   "source": []
  },
  {
   "cell_type": "code",
   "execution_count": 70,
   "metadata": {},
   "outputs": [
    {
     "data": {
      "text/plain": [
       "dict_values([{'ben & jerrys': 5.29, 'cheese': 2.79, 'ham': 25.0, 'kale': 2.75, 'kefir': 4.5, 'oranges': 3.64, 'tofu four-pack': 12.0, 'whole milk': 3.42}, {'toilet paper pack': 16.5, 'clorox spray': 6.43, 'kleenex': 2.5}, {'Taste of the Wild': 65.2, 'squeaky toy': 4.5, 'duck feet': 8.45}])"
      ]
     },
     "execution_count": 70,
     "metadata": {},
     "output_type": "execute_result"
    }
   ],
   "source": [
    "shopping_dict.values() "
   ]
  },
  {
   "cell_type": "code",
   "execution_count": null,
   "metadata": {},
   "outputs": [],
   "source": []
  },
  {
   "cell_type": "code",
   "execution_count": 71,
   "metadata": {},
   "outputs": [
    {
     "name": "stdout",
     "output_type": "stream",
     "text": [
      "{'ben & jerrys': 5.29, 'cheese': 2.79, 'ham': 25.0, 'kale': 2.75, 'kefir': 4.5, 'oranges': 3.64, 'tofu four-pack': 12.0, 'whole milk': 3.42}\n",
      "{'toilet paper pack': 16.5, 'clorox spray': 6.43, 'kleenex': 2.5}\n",
      "{'Taste of the Wild': 65.2, 'squeaky toy': 4.5, 'duck feet': 8.45}\n"
     ]
    }
   ],
   "source": [
    "for item in shopping_dict.values():\n",
    "    print(item)"
   ]
  },
  {
   "cell_type": "markdown",
   "metadata": {},
   "source": [
    "# Print all items within the content of our shopping cart"
   ]
  },
  {
   "cell_type": "code",
   "execution_count": 72,
   "metadata": {},
   "outputs": [
    {
     "name": "stdout",
     "output_type": "stream",
     "text": [
      "('Grocieries', {'ben & jerrys': 5.29, 'cheese': 2.79, 'ham': 25.0, 'kale': 2.75, 'kefir': 4.5, 'oranges': 3.64, 'tofu four-pack': 12.0, 'whole milk': 3.42})\n",
      "('House supplies', {'toilet paper pack': 16.5, 'clorox spray': 6.43, 'kleenex': 2.5})\n",
      "('Pet supplies', {'Taste of the Wild': 65.2, 'squeaky toy': 4.5, 'duck feet': 8.45})\n"
     ]
    }
   ],
   "source": [
    "for item in shopping_dict.items():\n",
    "    print(item)"
   ]
  },
  {
   "cell_type": "markdown",
   "metadata": {},
   "source": [
    "# Show All Items in our Grociery list    "
   ]
  },
  {
   "cell_type": "code",
   "execution_count": 73,
   "metadata": {},
   "outputs": [
    {
     "name": "stdout",
     "output_type": "stream",
     "text": [
      "ben & jerrys\n",
      "cheese\n",
      "ham\n",
      "kale\n",
      "kefir\n",
      "oranges\n",
      "tofu four-pack\n",
      "whole milk\n",
      "ben & jerrys\n",
      "cheese\n",
      "ham\n",
      "kale\n",
      "kefir\n",
      "oranges\n",
      "tofu four-pack\n",
      "whole milk\n",
      "ben & jerrys\n",
      "cheese\n",
      "ham\n",
      "kale\n",
      "kefir\n",
      "oranges\n",
      "tofu four-pack\n",
      "whole milk\n"
     ]
    }
   ],
   "source": [
    "for element in shopping_dict:\n",
    "    for item in shopping_dict[\"Grocieries\"]:\n",
    "        print(item)  "
   ]
  },
  {
   "cell_type": "markdown",
   "metadata": {},
   "source": [
    "# Show all items in grocery list and Price of each item        "
   ]
  },
  {
   "cell_type": "code",
   "execution_count": 74,
   "metadata": {},
   "outputs": [
    {
     "name": "stdout",
     "output_type": "stream",
     "text": [
      "('ben & jerrys', 5.29)\n",
      "('cheese', 2.79)\n",
      "('ham', 25.0)\n",
      "('kale', 2.75)\n",
      "('kefir', 4.5)\n",
      "('oranges', 3.64)\n",
      "('tofu four-pack', 12.0)\n",
      "('whole milk', 3.42)\n",
      "('ben & jerrys', 5.29)\n",
      "('cheese', 2.79)\n",
      "('ham', 25.0)\n",
      "('kale', 2.75)\n",
      "('kefir', 4.5)\n",
      "('oranges', 3.64)\n",
      "('tofu four-pack', 12.0)\n",
      "('whole milk', 3.42)\n",
      "('ben & jerrys', 5.29)\n",
      "('cheese', 2.79)\n",
      "('ham', 25.0)\n",
      "('kale', 2.75)\n",
      "('kefir', 4.5)\n",
      "('oranges', 3.64)\n",
      "('tofu four-pack', 12.0)\n",
      "('whole milk', 3.42)\n"
     ]
    }
   ],
   "source": [
    "for element in shopping_dict:\n",
    "    for price in shopping_dict[\"Grocieries\"].items():\n",
    "        print(price)    "
   ]
  },
  {
   "cell_type": "code",
   "execution_count": null,
   "metadata": {},
   "outputs": [],
   "source": []
  },
  {
   "cell_type": "markdown",
   "metadata": {},
   "source": [
    "# How much do we have to pay for our items in the shopping list"
   ]
  },
  {
   "cell_type": "code",
   "execution_count": 75,
   "metadata": {},
   "outputs": [
    {
     "name": "stdout",
     "output_type": "stream",
     "text": [
      "5.29\n",
      "2.79\n",
      "25.0\n",
      "2.75\n",
      "4.5\n",
      "3.64\n",
      "12.0\n",
      "3.42\n"
     ]
    }
   ],
   "source": [
    "for price in shopping_dict[\"Grocieries\"].values():\n",
    "    print(price)    "
   ]
  },
  {
   "cell_type": "code",
   "execution_count": 76,
   "metadata": {},
   "outputs": [
    {
     "name": "stdout",
     "output_type": "stream",
     "text": [
      "Total amount to pay for grocieries is: $ 59.39\n"
     ]
    }
   ],
   "source": [
    "total = 0\n",
    "for price in shopping_dict[\"Grocieries\"].values():\n",
    "    total += price\n",
    "print(\"Total amount to pay for grocieries is: $\" ,total)    "
   ]
  },
  {
   "cell_type": "code",
   "execution_count": null,
   "metadata": {},
   "outputs": [],
   "source": []
  },
  {
   "cell_type": "code",
   "execution_count": null,
   "metadata": {},
   "outputs": [],
   "source": []
  },
  {
   "cell_type": "code",
   "execution_count": null,
   "metadata": {},
   "outputs": [],
   "source": []
  },
  {
   "cell_type": "code",
   "execution_count": null,
   "metadata": {},
   "outputs": [],
   "source": []
  },
  {
   "cell_type": "code",
   "execution_count": null,
   "metadata": {},
   "outputs": [],
   "source": []
  },
  {
   "cell_type": "code",
   "execution_count": null,
   "metadata": {},
   "outputs": [],
   "source": []
  },
  {
   "cell_type": "code",
   "execution_count": null,
   "metadata": {},
   "outputs": [],
   "source": []
  },
  {
   "cell_type": "code",
   "execution_count": null,
   "metadata": {},
   "outputs": [],
   "source": []
  },
  {
   "cell_type": "code",
   "execution_count": null,
   "metadata": {},
   "outputs": [],
   "source": []
  },
  {
   "cell_type": "code",
   "execution_count": null,
   "metadata": {},
   "outputs": [],
   "source": []
  }
 ],
 "metadata": {
  "kernelspec": {
   "display_name": "Python [conda env:learn-env] *",
   "language": "python",
   "name": "conda-env-learn-env-py"
  },
  "language_info": {
   "codemirror_mode": {
    "name": "ipython",
    "version": 3
   },
   "file_extension": ".py",
   "mimetype": "text/x-python",
   "name": "python",
   "nbconvert_exporter": "python",
   "pygments_lexer": "ipython3",
   "version": "3.6.10"
  }
 },
 "nbformat": 4,
 "nbformat_minor": 4
}
